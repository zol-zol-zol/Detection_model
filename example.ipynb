{
 "cells": [
  {
   "cell_type": "code",
   "execution_count": null,
   "metadata": {},
   "outputs": [],
   "source": [
    "from puzzle2 import DetectCriminalSign\n",
    "\n",
    "# example Video\n",
    "video_path = 'Z000011_testvideo.mp4'\n",
    "\n",
    "# class 불러오기 \n",
    "detect_crim = DetectCriminalSign(sidewalk_df_path = './sidewalk_ori.csv',\n",
    "                                 sidewalk_dic_path = 'sidewalk_dict.pkl',\n",
    "                                 stopline_df_path = './stopline_area_ori.csv',\n",
    "                                 stopline_dic_path = 'stopline_dict.pkl',\n",
    "                                 light_df_path = 'traffic_ori_ver2.csv')\n",
    "\n"
   ]
  },
  {
   "cell_type": "code",
   "execution_count": null,
   "metadata": {},
   "outputs": [],
   "source": [
    "# 비디오에서 이미지 뽑기 \n",
    "# input : 비디오 경로, 저장할 경로\n",
    "detect_crim.capture_img(video_path, 'test')"
   ]
  },
  {
   "cell_type": "code",
   "execution_count": null,
   "metadata": {},
   "outputs": [],
   "source": [
    "# 새로운 마스크 만들 때 \n",
    "detect_crim.make_mask(mode = 'stopline', video_name = video_code)\n",
    "detect_crim.make_mask(mode = 'sidewalk', video_name = video_code)"
   ]
  },
  {
   "cell_type": "code",
   "execution_count": null,
   "metadata": {},
   "outputs": [],
   "source": [
    "# 마스크 보고 싶을 때 \n",
    "detect_crim.show_mask('stopline', 'C000002')\n",
    "detect_crim.show_mask('sidewalk', 'C000002')"
   ]
  },
  {
   "cell_type": "code",
   "execution_count": null,
   "metadata": {},
   "outputs": [],
   "source": [
    "# 마스크 보고 싶을 때 \n",
    "detect_crim.show_mask('stopline', 'C000002')\n",
    "detect_crim.show_mask('sidewalk', 'C000002')"
   ]
  },
  {
   "cell_type": "code",
   "execution_count": null,
   "metadata": {},
   "outputs": [],
   "source": [
    "# mask의 정보 \n",
    "detect_crim.sidewalk_dict"
   ]
  },
  {
   "cell_type": "code",
   "execution_count": null,
   "metadata": {},
   "outputs": [],
   "source": [
    "# 정지선 위반 탐지 \n",
    "detect_crim.stopline_criminal_detect(path)"
   ]
  },
  {
   "cell_type": "code",
   "execution_count": null,
   "metadata": {},
   "outputs": [],
   "source": [
    "# 보행자도로 위반 탐지 \n",
    "detect_crim.sidewalk_criminal_detect(path)"
   ]
  }
 ],
 "metadata": {
  "kernelspec": {
   "display_name": "Python 3.8.2 ('yolov7': venv)",
   "language": "python",
   "name": "python3"
  },
  "language_info": {
   "codemirror_mode": {
    "name": "ipython",
    "version": 3
   },
   "file_extension": ".py",
   "mimetype": "text/x-python",
   "name": "python",
   "nbconvert_exporter": "python",
   "pygments_lexer": "ipython3",
   "version": "3.8.2"
  },
  "orig_nbformat": 4,
  "vscode": {
   "interpreter": {
    "hash": "be18fa0387b9e044e993bfa5df96968da249e0fe9cddfba1ab2c8a293f32eff2"
   }
  }
 },
 "nbformat": 4,
 "nbformat_minor": 2
}
